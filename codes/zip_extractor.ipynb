{
 "cells": [
  {
   "attachments": {},
   "cell_type": "markdown",
   "metadata": {},
   "source": [
    "Opening the ZIP file\n",
    "\n",
    "data from: https://www.sec.gov/dera/data/financial-statement-data-sets"
   ]
  },
  {
   "cell_type": "code",
   "execution_count": 3,
   "metadata": {},
   "outputs": [],
   "source": [
    "import os\n",
    "import zipfile\n",
    "\n",
    "# set the folder path\n",
    "folder_path = \"/Users/areguly6/Library/CloudStorage/OneDrive-CorvinusUniversityofBudapest/Research/XBRL/data/SEC_raw\"\n",
    "\n",
    "# loop through all files in the folder\n",
    "for filename in os.listdir(folder_path):\n",
    "\n",
    "    # check if the file is a zip archive\n",
    "    if filename.endswith(\".zip\"):\n",
    "\n",
    "        # create a folder with the same name as the zip file\n",
    "        folder_name = os.path.splitext(filename)[0]\n",
    "        folder_path_zip = os.path.join(folder_path, folder_name)\n",
    "        os.makedirs(folder_path_zip, exist_ok=True)\n",
    "\n",
    "        # open the zip archive\n",
    "        with zipfile.ZipFile(os.path.join(folder_path, filename), \"r\") as zip_ref:\n",
    "\n",
    "            # extract all files in the archive to the new folder\n",
    "            zip_ref.extractall(folder_path_zip)\n",
    "\n",
    "        # delete the zip archive\n",
    "        os.remove(os.path.join(folder_path, filename))\n"
   ]
  },
  {
   "attachments": {},
   "cell_type": "markdown",
   "metadata": {},
   "source": [
    "Deleting the readne.htm and pre.txt"
   ]
  },
  {
   "cell_type": "code",
   "execution_count": 4,
   "metadata": {},
   "outputs": [],
   "source": [
    "import os\n",
    "\n",
    "# define the filenames to delete\n",
    "filenames = [\"readme.htm\"]\n",
    "\n",
    "# loop through all folders and subfolders in the folder\n",
    "for root, dirs, files in os.walk(folder_path):\n",
    "\n",
    "    # loop through all files in the current folder\n",
    "    for filename in files:\n",
    "\n",
    "        # check if the file name matches any of the filenames to delete\n",
    "        if filename in filenames:\n",
    "\n",
    "            # delete the file\n",
    "            os.remove(os.path.join(root, filename))\n"
   ]
  },
  {
   "cell_type": "code",
   "execution_count": null,
   "metadata": {},
   "outputs": [],
   "source": []
  }
 ],
 "metadata": {
  "kernelspec": {
   "display_name": "Python 3",
   "language": "python",
   "name": "python3"
  },
  "language_info": {
   "codemirror_mode": {
    "name": "ipython",
    "version": 3
   },
   "file_extension": ".py",
   "mimetype": "text/x-python",
   "name": "python",
   "nbconvert_exporter": "python",
   "pygments_lexer": "ipython3",
   "version": "3.11.5"
  },
  "orig_nbformat": 4,
  "vscode": {
   "interpreter": {
    "hash": "31f2aee4e71d21fbe5cf8b01ff0e069b9275f58929596ceb00d14d90e3e16cd6"
   }
  }
 },
 "nbformat": 4,
 "nbformat_minor": 2
}
